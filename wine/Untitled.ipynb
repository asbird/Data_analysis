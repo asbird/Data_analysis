{
 "cells": [
  {
   "cell_type": "code",
   "execution_count": 31,
   "metadata": {},
   "outputs": [],
   "source": [
    "import matplotlib.pyplot as plt\n",
    "import pandas as pd\n",
    "import seaborn as sns\n",
    "import numpy as np\n",
    "%matplotlib inline \n",
    "sns.set(color_codes=True)"
   ]
  },
  {
   "cell_type": "code",
   "execution_count": 78,
   "metadata": {},
   "outputs": [],
   "source": [
    "df_train = pd.read_csv('train_wine.csv')\n",
    "df_test = pd.read_csv('test_wine.csv')\n",
    "df_ss = pd.read_csv('sample_submission.csv')\n",
    "\n",
    "df = df_train.copy()"
   ]
  },
  {
   "cell_type": "code",
   "execution_count": 42,
   "metadata": {},
   "outputs": [
    {
     "data": {
      "text/html": [
       "<div>\n",
       "<style scoped>\n",
       "    .dataframe tbody tr th:only-of-type {\n",
       "        vertical-align: middle;\n",
       "    }\n",
       "\n",
       "    .dataframe tbody tr th {\n",
       "        vertical-align: top;\n",
       "    }\n",
       "\n",
       "    .dataframe thead th {\n",
       "        text-align: right;\n",
       "    }\n",
       "</style>\n",
       "<table border=\"1\" class=\"dataframe\">\n",
       "  <thead>\n",
       "    <tr style=\"text-align: right;\">\n",
       "      <th></th>\n",
       "      <th>id</th>\n",
       "      <th>class</th>\n",
       "      <th>color</th>\n",
       "      <th>vineyard</th>\n",
       "      <th>fixed.acidity</th>\n",
       "      <th>acid.sulfur</th>\n",
       "      <th>volatile.acidity</th>\n",
       "      <th>sulfur.taste</th>\n",
       "      <th>citric.acid</th>\n",
       "      <th>residual.sugar</th>\n",
       "      <th>...</th>\n",
       "      <th>chlor.class</th>\n",
       "      <th>free.sulfur.dioxide</th>\n",
       "      <th>condition</th>\n",
       "      <th>total.sulfur.dioxide</th>\n",
       "      <th>density</th>\n",
       "      <th>pH</th>\n",
       "      <th>acid.taste</th>\n",
       "      <th>sulphates</th>\n",
       "      <th>acidity.variance</th>\n",
       "      <th>alcohol</th>\n",
       "    </tr>\n",
       "  </thead>\n",
       "  <tbody>\n",
       "    <tr>\n",
       "      <th>0</th>\n",
       "      <td>1</td>\n",
       "      <td>medium</td>\n",
       "      <td>red</td>\n",
       "      <td>E</td>\n",
       "      <td>9.5</td>\n",
       "      <td>3.559427</td>\n",
       "      <td>0.59</td>\n",
       "      <td>2.411605</td>\n",
       "      <td>0.44</td>\n",
       "      <td>2.3</td>\n",
       "      <td>...</td>\n",
       "      <td>e2</td>\n",
       "      <td>21.0</td>\n",
       "      <td>I1</td>\n",
       "      <td>68.0</td>\n",
       "      <td>0.99920</td>\n",
       "      <td>3.46</td>\n",
       "      <td>2.67</td>\n",
       "      <td>0.63</td>\n",
       "      <td>0.24</td>\n",
       "      <td>9.5</td>\n",
       "    </tr>\n",
       "    <tr>\n",
       "      <th>1</th>\n",
       "      <td>2</td>\n",
       "      <td>good</td>\n",
       "      <td>red</td>\n",
       "      <td>C</td>\n",
       "      <td>6.4</td>\n",
       "      <td>3.131123</td>\n",
       "      <td>0.57</td>\n",
       "      <td>1.752449</td>\n",
       "      <td>0.12</td>\n",
       "      <td>2.3</td>\n",
       "      <td>...</td>\n",
       "      <td>g1</td>\n",
       "      <td>25.0</td>\n",
       "      <td>I1</td>\n",
       "      <td>36.0</td>\n",
       "      <td>0.99519</td>\n",
       "      <td>3.47</td>\n",
       "      <td>2.09</td>\n",
       "      <td>0.71</td>\n",
       "      <td>0.24</td>\n",
       "      <td>11.3</td>\n",
       "    </tr>\n",
       "    <tr>\n",
       "      <th>2</th>\n",
       "      <td>3</td>\n",
       "      <td>good</td>\n",
       "      <td>white</td>\n",
       "      <td>C</td>\n",
       "      <td>6.3</td>\n",
       "      <td>2.893981</td>\n",
       "      <td>0.23</td>\n",
       "      <td>2.299379</td>\n",
       "      <td>0.33</td>\n",
       "      <td>6.9</td>\n",
       "      <td>...</td>\n",
       "      <td>e3</td>\n",
       "      <td>23.0</td>\n",
       "      <td>I2</td>\n",
       "      <td>118.0</td>\n",
       "      <td>0.99380</td>\n",
       "      <td>3.23</td>\n",
       "      <td>2.34</td>\n",
       "      <td>0.46</td>\n",
       "      <td>0.24</td>\n",
       "      <td>10.4</td>\n",
       "    </tr>\n",
       "    <tr>\n",
       "      <th>3</th>\n",
       "      <td>4</td>\n",
       "      <td>good</td>\n",
       "      <td>red</td>\n",
       "      <td>D</td>\n",
       "      <td>7.2</td>\n",
       "      <td>2.311189</td>\n",
       "      <td>0.37</td>\n",
       "      <td>2.293916</td>\n",
       "      <td>0.32</td>\n",
       "      <td>2.0</td>\n",
       "      <td>...</td>\n",
       "      <td>i2</td>\n",
       "      <td>15.0</td>\n",
       "      <td>S1</td>\n",
       "      <td>28.0</td>\n",
       "      <td>0.99470</td>\n",
       "      <td>3.23</td>\n",
       "      <td>1.67</td>\n",
       "      <td>0.73</td>\n",
       "      <td>0.24</td>\n",
       "      <td>11.3</td>\n",
       "    </tr>\n",
       "    <tr>\n",
       "      <th>4</th>\n",
       "      <td>5</td>\n",
       "      <td>medium</td>\n",
       "      <td>white</td>\n",
       "      <td>E</td>\n",
       "      <td>5.9</td>\n",
       "      <td>3.185586</td>\n",
       "      <td>0.44</td>\n",
       "      <td>3.215821</td>\n",
       "      <td>0.33</td>\n",
       "      <td>1.2</td>\n",
       "      <td>...</td>\n",
       "      <td>d2</td>\n",
       "      <td>12.0</td>\n",
       "      <td>I1</td>\n",
       "      <td>117.0</td>\n",
       "      <td>0.99134</td>\n",
       "      <td>3.46</td>\n",
       "      <td>2.51</td>\n",
       "      <td>0.44</td>\n",
       "      <td>0.24</td>\n",
       "      <td>11.5</td>\n",
       "    </tr>\n",
       "  </tbody>\n",
       "</table>\n",
       "<p>5 rows × 21 columns</p>\n",
       "</div>"
      ],
      "text/plain": [
       "   id   class  color vineyard  fixed.acidity  acid.sulfur  volatile.acidity  \\\n",
       "0   1  medium    red        E            9.5     3.559427              0.59   \n",
       "1   2    good    red        C            6.4     3.131123              0.57   \n",
       "2   3    good  white        C            6.3     2.893981              0.23   \n",
       "3   4    good    red        D            7.2     2.311189              0.37   \n",
       "4   5  medium  white        E            5.9     3.185586              0.44   \n",
       "\n",
       "   sulfur.taste  citric.acid  residual.sugar  ...  chlor.class  \\\n",
       "0      2.411605         0.44             2.3  ...           e2   \n",
       "1      1.752449         0.12             2.3  ...           g1   \n",
       "2      2.299379         0.33             6.9  ...           e3   \n",
       "3      2.293916         0.32             2.0  ...           i2   \n",
       "4      3.215821         0.33             1.2  ...           d2   \n",
       "\n",
       "  free.sulfur.dioxide  condition total.sulfur.dioxide  density    pH  \\\n",
       "0                21.0         I1                 68.0  0.99920  3.46   \n",
       "1                25.0         I1                 36.0  0.99519  3.47   \n",
       "2                23.0         I2                118.0  0.99380  3.23   \n",
       "3                15.0         S1                 28.0  0.99470  3.23   \n",
       "4                12.0         I1                117.0  0.99134  3.46   \n",
       "\n",
       "   acid.taste  sulphates  acidity.variance  alcohol  \n",
       "0        2.67       0.63              0.24      9.5  \n",
       "1        2.09       0.71              0.24     11.3  \n",
       "2        2.34       0.46              0.24     10.4  \n",
       "3        1.67       0.73              0.24     11.3  \n",
       "4        2.51       0.44              0.24     11.5  \n",
       "\n",
       "[5 rows x 21 columns]"
      ]
     },
     "execution_count": 42,
     "metadata": {},
     "output_type": "execute_result"
    }
   ],
   "source": [
    "df_train.head()"
   ]
  },
  {
   "cell_type": "code",
   "execution_count": 99,
   "metadata": {
    "scrolled": true
   },
   "outputs": [
    {
     "data": {
      "text/plain": [
       "id                        int64\n",
       "class                    object\n",
       "color                    object\n",
       "vineyard                 object\n",
       "fixed.acidity           float64\n",
       "acid.sulfur             float64\n",
       "volatile.acidity        float64\n",
       "sulfur.taste            float64\n",
       "citric.acid             float64\n",
       "residual.sugar          float64\n",
       "chlorides               float64\n",
       "chlor.class              object\n",
       "free.sulfur.dioxide     float64\n",
       "condition                object\n",
       "total.sulfur.dioxide    float64\n",
       "density                 float64\n",
       "pH                      float64\n",
       "acid.taste              float64\n",
       "sulphates               float64\n",
       "acidity.variance        float64\n",
       "alcohol                 float64\n",
       "dtype: object"
      ]
     },
     "execution_count": 99,
     "metadata": {},
     "output_type": "execute_result"
    }
   ],
   "source": [
    "df_train.dtypes"
   ]
  },
  {
   "cell_type": "code",
   "execution_count": 103,
   "metadata": {},
   "outputs": [
    {
     "data": {
      "text/plain": [
       "Index(['class', 'color', 'vineyard', 'chlor.class', 'condition'], dtype='object')"
      ]
     },
     "execution_count": 103,
     "metadata": {},
     "output_type": "execute_result"
    }
   ],
   "source": []
  },
  {
   "cell_type": "code",
   "execution_count": 65,
   "metadata": {},
   "outputs": [
    {
     "data": {
      "text/plain": [
       "<matplotlib.axes._subplots.AxesSubplot at 0x21aacb40908>"
      ]
     },
     "execution_count": 65,
     "metadata": {},
     "output_type": "execute_result"
    },
    {
     "data": {
      "image/png": "[encoded data removed]",
      "text/plain": [
       "<Figure size 1440x504 with 2 Axes>"
      ]
     },
     "metadata": {},
     "output_type": "display_data"
    }
   ],
   "source": [
    "f, axes = plt.subplots(1, 2, figsize=(20, 7), sharex=True)\n",
    "sns.countplot(x = 'class',data = df_train, ax=axes[0])\n",
    "sns.countplot(x = 'class',data = df_ss, ax=axes[1])"
   ]
  },
  {
   "cell_type": "code",
   "execution_count": 129,
   "metadata": {},
   "outputs": [
    {
     "name": "stdout",
     "output_type": "stream",
     "text": [
      "------------ class ------------\n",
      "['medium' 'good' 'poor' 'excellent']\n",
      "[2 1 3 0]\n",
      "------------ color ------------\n",
      "['red' 'white']\n",
      "[0 1]\n",
      "------------ vineyard ------------\n",
      "['E' 'C' 'D' 'A' 'B']\n",
      "[4 2 3 0 1]\n",
      "------------ chlor.class ------------\n",
      "['e2' 'g1' 'e3' 'i2' 'd2' 'i1' 'd1' 'h1' 'f3' 'b2' 'i3' 'f1' 'c2' 'g3'\n",
      " 'b1' 'e1' 'g2' 'f2' 'c1' 'b3' 'h3' 'h2' 'd3' 'c3']\n",
      "[10 15 11 22  7 21  6 18 14  1 23 12  4 17  0  9 16 13  3  2 20 19  8  5]\n",
      "------------ condition ------------\n",
      "['I1' 'I2' 'S1' 'S2' 'S3' 'P1' 'P2' 'E']\n",
      "[1 2 5 6 7 3 4 0]\n",
      "------------------------\n"
     ]
    }
   ],
   "source": [
    "from sklearn import preprocessing\n",
    "df = df_train.copy()\n",
    "\n",
    "labelencoders = {}\n",
    "for o in df_train.select_dtypes('object').columns:\n",
    "    labelencoders[o] = preprocessing.LabelEncoder()\n",
    "    labelencoders[o].fit(df[o].unique())\n",
    "    print('------------ '+o+' ------------')\n",
    "    print(df[o].unique())\n",
    "    print(labelencoders[o].transform(df[o].unique()))\n",
    "print('------------------------')\n",
    "\n",
    "# le = preprocessing.LabelEncoder()\n",
    "# labels = df['class'].unique()\n",
    "# print(labels)\n",
    "# print(le.transform(labels))\n",
    "# print(le.inverse_transform([0,1,2,3]))\n"
   ]
  },
  {
   "cell_type": "code",
   "execution_count": 130,
   "metadata": {},
   "outputs": [],
   "source": [
    "for o in df_train.select_dtypes('object').columns:\n",
    "    df[o] = labelencoders[o].transform(df_train[o].values)\n"
   ]
  },
  {
   "cell_type": "code",
   "execution_count": 131,
   "metadata": {},
   "outputs": [
    {
     "data": {
      "text/html": [
       "<div>\n",
       "<style scoped>\n",
       "    .dataframe tbody tr th:only-of-type {\n",
       "        vertical-align: middle;\n",
       "    }\n",
       "\n",
       "    .dataframe tbody tr th {\n",
       "        vertical-align: top;\n",
       "    }\n",
       "\n",
       "    .dataframe thead th {\n",
       "        text-align: right;\n",
       "    }\n",
       "</style>\n",
       "<table border=\"1\" class=\"dataframe\">\n",
       "  <thead>\n",
       "    <tr style=\"text-align: right;\">\n",
       "      <th></th>\n",
       "      <th>id</th>\n",
       "      <th>class</th>\n",
       "      <th>color</th>\n",
       "      <th>vineyard</th>\n",
       "      <th>fixed.acidity</th>\n",
       "      <th>acid.sulfur</th>\n",
       "      <th>volatile.acidity</th>\n",
       "      <th>sulfur.taste</th>\n",
       "      <th>citric.acid</th>\n",
       "      <th>residual.sugar</th>\n",
       "      <th>...</th>\n",
       "      <th>chlor.class</th>\n",
       "      <th>free.sulfur.dioxide</th>\n",
       "      <th>condition</th>\n",
       "      <th>total.sulfur.dioxide</th>\n",
       "      <th>density</th>\n",
       "      <th>pH</th>\n",
       "      <th>acid.taste</th>\n",
       "      <th>sulphates</th>\n",
       "      <th>acidity.variance</th>\n",
       "      <th>alcohol</th>\n",
       "    </tr>\n",
       "  </thead>\n",
       "  <tbody>\n",
       "    <tr>\n",
       "      <th>0</th>\n",
       "      <td>1</td>\n",
       "      <td>2</td>\n",
       "      <td>0</td>\n",
       "      <td>4</td>\n",
       "      <td>9.5</td>\n",
       "      <td>3.559427</td>\n",
       "      <td>0.59</td>\n",
       "      <td>2.411605</td>\n",
       "      <td>0.44</td>\n",
       "      <td>2.3</td>\n",
       "      <td>...</td>\n",
       "      <td>10</td>\n",
       "      <td>21.0</td>\n",
       "      <td>1</td>\n",
       "      <td>68.0</td>\n",
       "      <td>0.99920</td>\n",
       "      <td>3.46</td>\n",
       "      <td>2.67</td>\n",
       "      <td>0.63</td>\n",
       "      <td>0.24</td>\n",
       "      <td>9.5</td>\n",
       "    </tr>\n",
       "    <tr>\n",
       "      <th>1</th>\n",
       "      <td>2</td>\n",
       "      <td>1</td>\n",
       "      <td>0</td>\n",
       "      <td>2</td>\n",
       "      <td>6.4</td>\n",
       "      <td>3.131123</td>\n",
       "      <td>0.57</td>\n",
       "      <td>1.752449</td>\n",
       "      <td>0.12</td>\n",
       "      <td>2.3</td>\n",
       "      <td>...</td>\n",
       "      <td>15</td>\n",
       "      <td>25.0</td>\n",
       "      <td>1</td>\n",
       "      <td>36.0</td>\n",
       "      <td>0.99519</td>\n",
       "      <td>3.47</td>\n",
       "      <td>2.09</td>\n",
       "      <td>0.71</td>\n",
       "      <td>0.24</td>\n",
       "      <td>11.3</td>\n",
       "    </tr>\n",
       "    <tr>\n",
       "      <th>2</th>\n",
       "      <td>3</td>\n",
       "      <td>1</td>\n",
       "      <td>1</td>\n",
       "      <td>2</td>\n",
       "      <td>6.3</td>\n",
       "      <td>2.893981</td>\n",
       "      <td>0.23</td>\n",
       "      <td>2.299379</td>\n",
       "      <td>0.33</td>\n",
       "      <td>6.9</td>\n",
       "      <td>...</td>\n",
       "      <td>11</td>\n",
       "      <td>23.0</td>\n",
       "      <td>2</td>\n",
       "      <td>118.0</td>\n",
       "      <td>0.99380</td>\n",
       "      <td>3.23</td>\n",
       "      <td>2.34</td>\n",
       "      <td>0.46</td>\n",
       "      <td>0.24</td>\n",
       "      <td>10.4</td>\n",
       "    </tr>\n",
       "    <tr>\n",
       "      <th>3</th>\n",
       "      <td>4</td>\n",
       "      <td>1</td>\n",
       "      <td>0</td>\n",
       "      <td>3</td>\n",
       "      <td>7.2</td>\n",
       "      <td>2.311189</td>\n",
       "      <td>0.37</td>\n",
       "      <td>2.293916</td>\n",
       "      <td>0.32</td>\n",
       "      <td>2.0</td>\n",
       "      <td>...</td>\n",
       "      <td>22</td>\n",
       "      <td>15.0</td>\n",
       "      <td>5</td>\n",
       "      <td>28.0</td>\n",
       "      <td>0.99470</td>\n",
       "      <td>3.23</td>\n",
       "      <td>1.67</td>\n",
       "      <td>0.73</td>\n",
       "      <td>0.24</td>\n",
       "      <td>11.3</td>\n",
       "    </tr>\n",
       "    <tr>\n",
       "      <th>4</th>\n",
       "      <td>5</td>\n",
       "      <td>2</td>\n",
       "      <td>1</td>\n",
       "      <td>4</td>\n",
       "      <td>5.9</td>\n",
       "      <td>3.185586</td>\n",
       "      <td>0.44</td>\n",
       "      <td>3.215821</td>\n",
       "      <td>0.33</td>\n",
       "      <td>1.2</td>\n",
       "      <td>...</td>\n",
       "      <td>7</td>\n",
       "      <td>12.0</td>\n",
       "      <td>1</td>\n",
       "      <td>117.0</td>\n",
       "      <td>0.99134</td>\n",
       "      <td>3.46</td>\n",
       "      <td>2.51</td>\n",
       "      <td>0.44</td>\n",
       "      <td>0.24</td>\n",
       "      <td>11.5</td>\n",
       "    </tr>\n",
       "  </tbody>\n",
       "</table>\n",
       "<p>5 rows × 21 columns</p>\n",
       "</div>"
      ],
      "text/plain": [
       "   id  class  color  vineyard  fixed.acidity  acid.sulfur  volatile.acidity  \\\n",
       "0   1      2      0         4            9.5     3.559427              0.59   \n",
       "1   2      1      0         2            6.4     3.131123              0.57   \n",
       "2   3      1      1         2            6.3     2.893981              0.23   \n",
       "3   4      1      0         3            7.2     2.311189              0.37   \n",
       "4   5      2      1         4            5.9     3.185586              0.44   \n",
       "\n",
       "   sulfur.taste  citric.acid  residual.sugar  ...  chlor.class  \\\n",
       "0      2.411605         0.44             2.3  ...           10   \n",
       "1      1.752449         0.12             2.3  ...           15   \n",
       "2      2.299379         0.33             6.9  ...           11   \n",
       "3      2.293916         0.32             2.0  ...           22   \n",
       "4      3.215821         0.33             1.2  ...            7   \n",
       "\n",
       "   free.sulfur.dioxide  condition  total.sulfur.dioxide  density    pH  \\\n",
       "0                 21.0          1                  68.0  0.99920  3.46   \n",
       "1                 25.0          1                  36.0  0.99519  3.47   \n",
       "2                 23.0          2                 118.0  0.99380  3.23   \n",
       "3                 15.0          5                  28.0  0.99470  3.23   \n",
       "4                 12.0          1                 117.0  0.99134  3.46   \n",
       "\n",
       "   acid.taste  sulphates  acidity.variance  alcohol  \n",
       "0        2.67       0.63              0.24      9.5  \n",
       "1        2.09       0.71              0.24     11.3  \n",
       "2        2.34       0.46              0.24     10.4  \n",
       "3        1.67       0.73              0.24     11.3  \n",
       "4        2.51       0.44              0.24     11.5  \n",
       "\n",
       "[5 rows x 21 columns]"
      ]
     },
     "execution_count": 131,
     "metadata": {},
     "output_type": "execute_result"
    }
   ],
   "source": [
    "# df[o]\n",
    "\n",
    "df.head()"
   ]
  },
  {
   "cell_type": "code",
   "execution_count": 145,
   "metadata": {
    "scrolled": true
   },
   "outputs": [
    {
     "name": "stdout",
     "output_type": "stream",
     "text": [
      "alcohol                -0.379473\n",
      "color                  -0.101465\n",
      "free.sulfur.dioxide    -0.078976\n",
      "citric.acid            -0.072700\n",
      "sulfur.taste           -0.036649\n",
      "pH                     -0.033551\n",
      "sulphates              -0.028867\n",
      "acidity.variance       -0.027221\n",
      "id                     -0.016626\n",
      "chlor.class            -0.013276\n",
      "condition               0.008383\n",
      "vineyard                0.018006\n",
      "residual.sugar          0.021089\n",
      "acid.sulfur             0.023454\n",
      "total.sulfur.dioxide    0.024315\n",
      "acid.taste              0.034170\n",
      "fixed.acidity           0.075804\n",
      "chlorides               0.176626\n",
      "density                 0.254921\n",
      "volatile.acidity        0.262451\n",
      "class                   1.000000\n",
      "Name: class, dtype: float64\n"
     ]
    },
    {
     "data": {
      "image/png": "[encoded data removed]",
      "text/plain": [
       "<Figure size 1440x720 with 2 Axes>"
      ]
     },
     "metadata": {},
     "output_type": "display_data"
    }
   ],
   "source": [
    "plt.figure(figsize=(20,10))\n",
    "c= df.corr()\n",
    "sns.heatmap(c, cmap=\"RdBu_r\")\n",
    "print(c['class'].sort_values())"
   ]
  },
  {
   "cell_type": "code",
   "execution_count": 27,
   "metadata": {},
   "outputs": [
    {
     "data": {
      "text/plain": [
       "(4355, 21)"
      ]
     },
     "execution_count": 27,
     "metadata": {},
     "output_type": "execute_result"
    }
   ],
   "source": [
    "df_train.shape"
   ]
  },
  {
   "cell_type": "code",
   "execution_count": 28,
   "metadata": {},
   "outputs": [
    {
     "data": {
      "text/plain": [
       "id                      4355\n",
       "class                   4355\n",
       "color                   4355\n",
       "vineyard                4355\n",
       "fixed.acidity           4355\n",
       "acid.sulfur             4355\n",
       "volatile.acidity        4355\n",
       "sulfur.taste            4355\n",
       "citric.acid             4355\n",
       "residual.sugar          4355\n",
       "chlorides               4355\n",
       "chlor.class             4355\n",
       "free.sulfur.dioxide     4355\n",
       "condition               4355\n",
       "total.sulfur.dioxide    4355\n",
       "density                 4355\n",
       "pH                      4355\n",
       "acid.taste              4355\n",
       "sulphates               4355\n",
       "acidity.variance        4355\n",
       "alcohol                 4355\n",
       "dtype: int64"
      ]
     },
     "execution_count": 28,
     "metadata": {},
     "output_type": "execute_result"
    }
   ],
   "source": [
    "df_train.count()"
   ]
  },
  {
   "cell_type": "code",
   "execution_count": 30,
   "metadata": {},
   "outputs": [
    {
     "name": "stdout",
     "output_type": "stream",
     "text": [
      "id                      0\n",
      "class                   0\n",
      "color                   0\n",
      "vineyard                0\n",
      "fixed.acidity           0\n",
      "acid.sulfur             0\n",
      "volatile.acidity        0\n",
      "sulfur.taste            0\n",
      "citric.acid             0\n",
      "residual.sugar          0\n",
      "chlorides               0\n",
      "chlor.class             0\n",
      "free.sulfur.dioxide     0\n",
      "condition               0\n",
      "total.sulfur.dioxide    0\n",
      "density                 0\n",
      "pH                      0\n",
      "acid.taste              0\n",
      "sulphates               0\n",
      "acidity.variance        0\n",
      "alcohol                 0\n",
      "dtype: int64\n"
     ]
    }
   ],
   "source": [
    "print(df_train.isnull().sum())"
   ]
  },
  {
   "cell_type": "code",
   "execution_count": null,
   "metadata": {},
   "outputs": [],
   "source": []
  },
  {
   "cell_type": "code",
   "execution_count": null,
   "metadata": {},
   "outputs": [],
   "source": []
  },
  {
   "cell_type": "code",
   "execution_count": null,
   "metadata": {},
   "outputs": [],
   "source": []
  },
  {
   "cell_type": "code",
   "execution_count": null,
   "metadata": {},
   "outputs": [],
   "source": []
  },
  {
   "cell_type": "code",
   "execution_count": null,
   "metadata": {},
   "outputs": [],
   "source": []
  },
  {
   "cell_type": "code",
   "execution_count": null,
   "metadata": {},
   "outputs": [],
   "source": []
  },
  {
   "cell_type": "code",
   "execution_count": null,
   "metadata": {},
   "outputs": [],
   "source": []
  },
  {
   "cell_type": "code",
   "execution_count": null,
   "metadata": {},
   "outputs": [],
   "source": []
  },
  {
   "cell_type": "code",
   "execution_count": null,
   "metadata": {},
   "outputs": [],
   "source": []
  },
  {
   "cell_type": "code",
   "execution_count": null,
   "metadata": {},
   "outputs": [],
   "source": []
  },
  {
   "cell_type": "code",
   "execution_count": null,
   "metadata": {},
   "outputs": [],
   "source": []
  },
  {
   "cell_type": "code",
   "execution_count": null,
   "metadata": {},
   "outputs": [],
   "source": []
  }
 ],
 "metadata": {
  "kernelspec": {
   "display_name": "Python 3",
   "language": "python",
   "name": "python3"
  },
  "language_info": {
   "codemirror_mode": {
    "name": "ipython",
    "version": 3
   },
   "file_extension": ".py",
   "mimetype": "text/x-python",
   "name": "python",
   "nbconvert_exporter": "python",
   "pygments_lexer": "ipython3",
   "version": "3.7.6"
  }
 },
 "nbformat": 4,
 "nbformat_minor": 4
}
